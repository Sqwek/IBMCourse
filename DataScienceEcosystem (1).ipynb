{
 "cells": [
  {
   "cell_type": "markdown",
   "id": "4d5521cd-b98d-4fd4-92a3-ef1a04108cf5",
   "metadata": {},
   "source": [
    "# Data Science Tools and Ecosystem"
   ]
  },
  {
   "cell_type": "markdown",
   "id": "379be4d7-97f9-40d5-a547-6dacebf5a11c",
   "metadata": {},
   "source": [
    "In this notebook, Data Science Tools and Ecosystem are summarized."
   ]
  },
  {
   "cell_type": "markdown",
   "id": "ba51deb2-da31-46e4-9e00-3d9cca151752",
   "metadata": {},
   "source": [
    "Some of the popular languages that Data Scientists use are:\n"
   ]
  },
  {
   "cell_type": "markdown",
   "id": "014a8786-e21c-4ecb-bca0-ebf7217b031e",
   "metadata": {},
   "source": [
    "1. Python\n",
    "2. R\n",
    "3. SQL"
   ]
  },
  {
   "cell_type": "markdown",
   "id": "dfad423f-8a25-4b60-9b7c-c16f0b6f520b",
   "metadata": {},
   "source": [
    "Some of the commonly used libraries used by Data Scientists include:"
   ]
  },
  {
   "cell_type": "markdown",
   "id": "6f956250-1c05-4855-8e7a-76b15dab9e91",
   "metadata": {},
   "source": [
    "1. NumPy\n",
    "2. Matplotlib\n",
    "3. Pandas"
   ]
  },
  {
   "cell_type": "markdown",
   "id": "34681598-1cea-4f74-9822-c149ad505ccc",
   "metadata": {},
   "source": [
    "| Data Science Tools |\n",
    "|-------------------|\n",
    "| Pandas | \n",
    "| NumPy| \n",
    "| SciPy |"
   ]
  },
  {
   "cell_type": "markdown",
   "id": "0350df35-ccb4-449e-914d-fb52d10a4824",
   "metadata": {},
   "source": [
    "### Below are a few examples of evaluating arithmetic expressions in Python"
   ]
  },
  {
   "cell_type": "code",
   "execution_count": null,
   "id": "6778d04e-f969-4dd0-9c39-c7d0705b62b9",
   "metadata": {},
   "outputs": [],
   "source": [
    "# This a simple arithmetic expression to mutiply then add integers"
   ]
  },
  {
   "cell_type": "code",
   "execution_count": 1,
   "id": "2cd5c961-52f7-44f1-b074-1d7a7343b01f",
   "metadata": {},
   "outputs": [
    {
     "data": {
      "text/plain": [
       "17"
      ]
     },
     "execution_count": 1,
     "metadata": {},
     "output_type": "execute_result"
    }
   ],
   "source": [
    "(3*4)+5"
   ]
  },
  {
   "cell_type": "code",
   "execution_count": null,
   "id": "2fa8d34c-0223-4858-aa68-fa69f2049a65",
   "metadata": {},
   "outputs": [],
   "source": [
    "# This will convert 200 minutes to hours by diving by 60"
   ]
  },
  {
   "cell_type": "code",
   "execution_count": 3,
   "id": "2ef4b240-24f5-4772-a48e-cb875e7ed521",
   "metadata": {},
   "outputs": [],
   "source": [
    "minutes = 200"
   ]
  },
  {
   "cell_type": "code",
   "execution_count": 4,
   "id": "0e45ec67-beba-4883-b9ca-ab0c53e25dc5",
   "metadata": {},
   "outputs": [],
   "source": [
    "hours = minutes / 60"
   ]
  },
  {
   "cell_type": "code",
   "execution_count": 5,
   "id": "f65c4bc3-d818-4359-ad1e-a02c36082ae3",
   "metadata": {},
   "outputs": [
    {
     "name": "stdout",
     "output_type": "stream",
     "text": [
      "3.3333333333333335\n"
     ]
    }
   ],
   "source": [
    "print (hours)"
   ]
  },
  {
   "cell_type": "markdown",
   "id": "923ac12d-361d-4b77-8cab-52265d7e45c8",
   "metadata": {},
   "source": [
    "# Objectives:\n",
    "- List popular languages for Data Science\n",
    "- Learn how to use Jupyter Notebook\n",
    "- Learn basic python"
   ]
  },
  {
   "cell_type": "markdown",
   "id": "d23a9b85-0932-4fa6-9ac0-c8df2188173b",
   "metadata": {},
   "source": [
    "## Author\n",
    "Alex Coletta"
   ]
  },
  {
   "cell_type": "code",
   "execution_count": null,
   "id": "e945e15d-59bd-4982-b0df-302ae848825e",
   "metadata": {},
   "outputs": [],
   "source": []
  },
  {
   "cell_type": "code",
   "execution_count": null,
   "id": "a3958d74-66b1-4303-ae47-abfaa16c84fa",
   "metadata": {},
   "outputs": [],
   "source": []
  }
 ],
 "metadata": {
  "kernelspec": {
   "display_name": "Python 3 (ipykernel)",
   "language": "python",
   "name": "python3"
  },
  "language_info": {
   "codemirror_mode": {
    "name": "ipython",
    "version": 3
   },
   "file_extension": ".py",
   "mimetype": "text/x-python",
   "name": "python",
   "nbconvert_exporter": "python",
   "pygments_lexer": "ipython3",
   "version": "3.12.8"
  }
 },
 "nbformat": 4,
 "nbformat_minor": 5
}
